{
  "cells": [
    {
      "cell_type": "markdown",
      "metadata": {
        "id": "Tce3stUlHN0L"
      },
      "source": [
        "##### Copyright 2024 Google LLC."
      ]
    },
    {
      "cell_type": "code",
      "execution_count": null,
      "metadata": {
        "cellView": "form",
        "id": "tuOe1ymfHZPu"
      },
      "outputs": [],
      "source": [
        "#@title Licensed under the Apache License, Version 2.0 (the \"License\");\n",
        "# you may not use this file except in compliance with the License.\n",
        "# You may obtain a copy of the License at\n",
        "#\n",
        "# https://www.apache.org/licenses/LICENSE-2.0\n",
        "#\n",
        "# Unless required by applicable law or agreed to in writing, software\n",
        "# distributed under the License is distributed on an \"AS IS\" BASIS,\n",
        "# WITHOUT WARRANTIES OR CONDITIONS OF ANY KIND, either express or implied.\n",
        "# See the License for the specific language governing permissions and\n",
        "# limitations under the License."
      ]
    },
    {
      "cell_type": "markdown",
      "metadata": {
        "id": "-QhPWE1lwZHH"
      },
      "source": [
        "# Gemini API Python quickstart"
      ]
    },
    {
      "cell_type": "markdown",
      "metadata": {
        "id": "fa7c47ae6451"
      },
      "source": [
        "<table class=\"tfo-notebook-buttons\" align=\"left\">\n",
        "  <td>\n",
        "    <a target=\"_blank\" href=\"https://ai.google.dev/tutorials/quickstart_colab\"><img src=\"https://ai.google.dev/static/site-assets/images/docs/notebook-site-button.png\" height=\"32\" width=\"32\" />View on Google AI</a>\n",
        "  </td>\n",
        "  <td>\n",
        "    <a target=\"_blank\" href=\"https://colab.research.google.com/github/google/generative-ai-docs/blob/main/site/en/tutorials/quickstart_colab.ipynb\"><img src=\"https://www.tensorflow.org/images/colab_logo_32px.png\" />Run in Google Colab</a>\n",
        "  </td>\n",
        "  <td>\n",
        "    <a target=\"_blank\" href=\"https://github.com/google/generative-ai-docs/blob/main/site/en/tutorials/quickstart_colab.ipynb\"><img src=\"https://www.tensorflow.org/images/GitHub-Mark-32px.png\" />View source on GitHub</a>\n",
        "  </td>\n",
        "</table>"
      ]
    },
    {
      "cell_type": "markdown",
      "metadata": {
        "id": "db29b8d4247e"
      },
      "source": [
        "This tutorial shows you how to get started with the Gemini API using the Python SDK."
      ]
    },
    {
      "cell_type": "markdown",
      "metadata": {
        "id": "NNNg43Ymw54e"
      },
      "source": [
        "## Prerequisites\n",
        "\n",
        "You can run this tutorial in Google Colab, which doesn't require additional environment configuration.\n",
        "\n",
        "Alternatively, to complete this quickstart locally, see the Python guidance in [Get started with the Gemini API](https://ai.google.dev/tutorials/quickstart)."
      ]
    },
    {
      "cell_type": "markdown",
      "metadata": {
        "id": "kHkHARdb1ZID"
      },
      "source": [
        "## Install the SDK\n",
        "\n",
        "The Python SDK for the Gemini API is contained in the [`google-generativeai`](https://pypi.org/project/google-generativeai/) package. Install the dependency using pip:"
      ]
    },
    {
      "cell_type": "code",
      "execution_count": 1,
      "metadata": {
        "id": "J6Pd9SFJ1yVi"
      },
      "outputs": [],
      "source": [
        "!pip install -q -U google-generativeai"
      ]
    },
    {
      "cell_type": "markdown",
      "metadata": {
        "id": "EeMCtmx9ykyx"
      },
      "source": [
        "## Set up your API key\n",
        "\n",
        "To use the Gemini API, you'll need an API key. If you don't already have one, create a key in Google AI Studio.\n",
        "\n",
        "<a class=\"button\" href=\"https://aistudio.google.com/app/apikey\" target=\"_blank\" rel=\"noopener noreferrer\">Get an API key</a>\n",
        "\n",
        "In Colab, add the key to the secrets manager under the \"🔑\" in the left panel. Give it the name `GOOGLE_API_KEY`. Then pass the key to the SDK:"
      ]
    },
    {
      "cell_type": "code",
      "execution_count": 2,
      "metadata": {
        "id": "HTiaTu6O1LRC"
      },
      "outputs": [],
      "source": [
        "# Import the Python SDK\n",
        "import google.generativeai as genai\n",
        "# Used to securely store your API key\n",
        "from google.colab import userdata\n",
        "\n",
        "GOOGLE_API_KEY=userdata.get('GOOGLE_API_KEY')\n",
        "genai.configure(api_key=GOOGLE_API_KEY)"
      ]
    },
    {
      "cell_type": "markdown",
      "metadata": {
        "id": "CZPYk29o2No0"
      },
      "source": [
        "## Initialize the Generative Model\n",
        "\n",
        "Before you can make any API calls, you need to initialize the Generative Model."
      ]
    },
    {
      "cell_type": "code",
      "execution_count": 3,
      "metadata": {
        "id": "s-JqXcDe2hZ_"
      },
      "outputs": [],
      "source": [
        "model = genai.GenerativeModel('gemini-pro')"
      ]
    },
    {
      "cell_type": "markdown",
      "metadata": {
        "id": "nXxypzJH4MUl"
      },
      "source": [
        "## Generate text"
      ]
    },
    {
      "cell_type": "code",
      "execution_count": 4,
      "metadata": {
        "id": "j51mcrLD4Y2W",
        "outputId": "2324a207-66ab-41c1-fb89-ee886f263375",
        "colab": {
          "base_uri": "https://localhost:8080/",
          "height": 274
        }
      },
      "outputs": [
        {
          "output_type": "stream",
          "name": "stdout",
          "text": [
            "In the quaint town of Willow Creek, there resided an unassuming backpack named Arcanus. Little did anyone know that beneath its ordinary facade lay a secret that would forever transform the life of its owner.\n",
            "\n",
            "Emily was a curious and imaginative 12-year-old girl who stumbled upon Arcanus in a dusty attic. Its worn leather and tarnished buckles hinted at a long and mysterious history. Intrigued, Emily reached out to touch it, and in that moment, a surge of magic coursed through her.\n",
            "\n",
            "To Emily's astonishment, Arcanus sprang to life, revealing shimmering compartments and whispering secrets. Its straps became sentient, wrapping themselves gently around her shoulders and guiding her toward unknown adventures. With each step she took, she discovered new abilities hidden within its magical depths.\n",
            "\n",
            "Books whispered their pages, revealing forbidden knowledge. Inks flowed like liquid moonlight, creating ethereal drawings. The backpack's fabric shifted colors and textures, disguising Emily in a myriad of ways. It became her confidant, her protector, and her key to a world that existed beyond the ordinary.\n",
            "\n",
            "One sunny afternoon, as Emily explored the nearby forest, she encountered a group of bullies tormenting a younger child. Without hesitation, Arcanus unleashed its powers. Its buckles glowed with an ethereal light, casting a protective barrier around the victim.\n",
            "\n",
            "The bullies scattered in terror, leaving Emily victorious and proud. From that day forward, Arcanus became not only a magical companion but a symbol of her inner strength. Together, they embarked on countless escapades, unraveling ancient mysteries and righting wrongs.\n",
            "\n",
            "As Emily grew older, Arcanus became an indispensable part of her life. It carried her dreams, her memories, and the boundless possibilities of her imagination. And so, the legend of the magic backpack continued to be passed down through generations, inspiring wonder and reminding everyone that even the most ordinary objects can hold extraordinary secrets.\n"
          ]
        }
      ],
      "source": [
        "response = model.generate_content(\"Write a story about a magic backpack.\")\n",
        "print(response.text)"
      ]
    },
    {
      "cell_type": "markdown",
      "metadata": {
        "id": "zUUAQS9u4biH"
      },
      "source": [
        "## What's next\n",
        "\n",
        "To learn more about working with the Gemini API, see the [Python tutorial](https://ai.google.dev/tutorials/python_quickstart).\n",
        "\n",
        "If you're new to generative AI models, you might want to look at the\n",
        "[concepts guide](https://ai.google.dev/docs/concepts) and the\n",
        "[Gemini API overview](https://ai.google.dev/docs/gemini_api_overview)."
      ]
    },
    {
      "cell_type": "markdown",
      "source": [
        "# This is the first way of structuring output using prompt"
      ],
      "metadata": {
        "id": "qNxRKwyEZJaZ"
      }
    },
    {
      "cell_type": "code",
      "source": [
        "\n",
        "prompt = \"\"\"List a few popular cookie recipes in JSON format.\n",
        "\n",
        "Use this JSON schema:\n",
        "\n",
        "Recipe = {'recipe_name': str, 'ingredients': list[str]}\n",
        "Return: list[Recipe]\"\"\"\n",
        "result = model.generate_content(prompt)\n",
        "print(result.text)"
      ],
      "metadata": {
        "id": "WR7O0fegYhCH",
        "outputId": "5d6e9ab3-c924-497d-b753-087798fb4488",
        "colab": {
          "base_uri": "https://localhost:8080/",
          "height": 1000
        }
      },
      "execution_count": 7,
      "outputs": [
        {
          "output_type": "stream",
          "name": "stdout",
          "text": [
            "```json\n",
            "[\n",
            "    {\n",
            "        \"recipe_name\": \"Chocolate Chip Cookies\",\n",
            "        \"ingredients\": [\n",
            "            \"1 cup (2 sticks) unsalted butter, softened\",\n",
            "            \"¾ cup granulated sugar\",\n",
            "            \"¾ cup packed brown sugar\",\n",
            "            \"2 teaspoons pure vanilla extract\",\n",
            "            \"2 large eggs\",\n",
            "            \"2 ¼ cups all-purpose flour\",\n",
            "            \"1 teaspoon baking soda\",\n",
            "            \"1 teaspoon salt\",\n",
            "            \"2 cups chocolate chips\"\n",
            "        ]\n",
            "    },\n",
            "    {\n",
            "        \"recipe_name\": \"Peanut Butter Cookies\",\n",
            "        \"ingredients\": [\n",
            "            \"1 cup creamy peanut butter\",\n",
            "            \"1 cup granulated sugar\",\n",
            "            \"1 cup packed brown sugar\",\n",
            "            \"1 large egg\",\n",
            "            \"1 teaspoon vanilla extract\",\n",
            "            \"1 teaspoon baking soda\",\n",
            "            \"½ teaspoon salt\"\n",
            "        ]\n",
            "    },\n",
            "    {\n",
            "        \"recipe_name\": \"Oatmeal Raisin Cookies\",\n",
            "        \"ingredients\": [\n",
            "            \"1 cup (2 sticks) unsalted butter, softened\",\n",
            "            \"¾ cup granulated sugar\",\n",
            "            \"¾ cup packed brown sugar\",\n",
            "            \"2 large eggs\",\n",
            "            \"1 teaspoon vanilla extract\",\n",
            "            \"1 ½ cups all-purpose flour\",\n",
            "            \"1 teaspoon baking soda\",\n",
            "            \"1 teaspoon ground cinnamon\",\n",
            "            \"½ teaspoon salt\",\n",
            "            \"3 cups rolled oats\",\n",
            "            \"1 cup raisins\"\n",
            "\n",
            "        ]\n",
            "    },\n",
            "    {\n",
            "        \"recipe_name\": \"Sugar Cookies\",\n",
            "        \"ingredients\": [\n",
            "            \"1 cup (2 sticks) unsalted butter, softened\",\n",
            "            \"1 ½ cups granulated sugar\",\n",
            "            \"2 large eggs\",\n",
            "            \"1 teaspoon vanilla extract\",\n",
            "            \"3 cups all-purpose flour\",\n",
            "            \"1 teaspoon baking powder\",\n",
            "            \"½ teaspoon salt\"\n",
            "        ]\n",
            "    },\n",
            "    {\n",
            "        \"recipe_name\": \"Snickerdoodles\",\n",
            "        \"ingredients\": [\n",
            "            \"1 cup (2 sticks) unsalted butter, softened\",\n",
            "            \"1 ½ cups granulated sugar\",\n",
            "            \"2 large eggs\",\n",
            "            \"2 ¾ cups all-purpose flour\",\n",
            "            \"2 teaspoons cream of tartar\",\n",
            "            \"1 teaspoon baking soda\",\n",
            "            \"¼ teaspoon salt\",\n",
            "            \"¼ cup granulated sugar\",\n",
            "            \"2 teaspoons ground cinnamon\"\n",
            "        ]\n",
            "    }\n",
            "]\n",
            "```\n"
          ]
        }
      ]
    }
  ],
  "metadata": {
    "colab": {
      "name": "quickstart_colab.ipynb",
      "provenance": []
    },
    "kernelspec": {
      "display_name": "Python 3",
      "name": "python3"
    }
  },
  "nbformat": 4,
  "nbformat_minor": 0
}